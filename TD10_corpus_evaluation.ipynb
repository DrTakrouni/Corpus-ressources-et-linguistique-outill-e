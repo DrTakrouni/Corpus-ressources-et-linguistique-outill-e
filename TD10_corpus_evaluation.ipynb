{
 "cells": [
  {
   "cell_type": "markdown",
   "id": "38d11604",
   "metadata": {},
   "source": [
    "# Évaluation d'un corpus annoté : Accord inter-annotateurs"
   ]
  },
  {
   "cell_type": "markdown",
   "id": "9d9b3a63",
   "metadata": {},
   "source": [
    "## Étape 1 : Chargement des données"
   ]
  },
  {
   "cell_type": "code",
   "execution_count": null,
   "id": "d75ce9db",
   "metadata": {},
   "outputs": [],
   "source": [
    "import pandas as pd\n",
    "\n",
    "# Données simulées pour deux annotateurs\n",
    "data_A = {\n",
    "    \"sentence_id\": [1]*5 + [2]*5 + [3]*4,\n",
    "    \"token\": [\"Amazon\", \"est\", \"une\", \"entreprise\", \"américaine\",\n",
    "              \"Paris\", \"accueille\", \"le\", \"festival\", \"Cannes\",\n",
    "              \"John\", \"travaille\", \"chez\", \"Google\"],\n",
    "    \"annotation\": [\"B-ORG\", \"O\", \"O\", \"O\", \"B-MISC\",\n",
    "                   \"B-LOC\", \"O\", \"O\", \"O\", \"B-MISC\",\n",
    "                   \"B-PER\", \"O\", \"O\", \"B-ORG\"]\n",
    "}\n",
    "\n",
    "data_B = {\n",
    "    \"sentence_id\": [1]*5 + [2]*5 + [3]*4,\n",
    "    \"token\": [\"Amazon\", \"est\", \"une\", \"entreprise\", \"américaine\",\n",
    "              \"Paris\", \"accueille\", \"le\", \"festival\", \"Cannes\",\n",
    "              \"John\", \"travaille\", \"chez\", \"Google\"],\n",
    "    \"annotation\": [\"B-LOC\", \"O\", \"O\", \"O\", \"O\",\n",
    "                   \"B-LOC\", \"O\", \"O\", \"O\", \"B-LOC\",\n",
    "                   \"B-PER\", \"O\", \"O\", \"B-MISC\"]\n",
    "}\n",
    "\n",
    "df_A = pd.DataFrame(data_A)\n",
    "df_B = pd.DataFrame(data_B)"
   ]
  },
  {
   "cell_type": "markdown",
   "id": "c6ee7384",
   "metadata": {},
   "source": [
    "## Étape 2 : Fusion des annotations"
   ]
  },
  {
   "cell_type": "code",
   "execution_count": null,
   "id": "7fed6504",
   "metadata": {},
   "outputs": [],
   "source": [
    "merged = df_A.merge(df_B, on=[\"sentence_id\", \"token\"], suffixes=('_A', '_B'))\n",
    "print(\"Annotations fusionnées :\\n\", merged.head())"
   ]
  },
  {
   "cell_type": "markdown",
   "id": "e6b119fd",
   "metadata": {},
   "source": [
    "## Étape 3 : Calcul de Cohen's Kappa"
   ]
  },
  {
   "cell_type": "code",
   "execution_count": null,
   "id": "e549ee4d",
   "metadata": {},
   "outputs": [],
   "source": [
    "from sklearn.metrics import cohen_kappa_score\n",
    "\n",
    "kappa = cohen_kappa_score(merged[\"annotation_A\"], merged[\"annotation_B\"])\n",
    "print(\"\\nCohen’s Kappa:\", round(kappa, 2))"
   ]
  },
  {
   "cell_type": "markdown",
   "id": "dabc768c",
   "metadata": {},
   "source": [
    "## Étape 4 : Identification des divergences"
   ]
  },
  {
   "cell_type": "code",
   "execution_count": null,
   "id": "88b64293",
   "metadata": {},
   "outputs": [],
   "source": [
    "disagreements = merged[merged[\"annotation_A\"] != merged[\"annotation_B\"]]\n",
    "print(\"\\nDivergences détectées :\\n\", disagreements)"
   ]
  },
  {
   "cell_type": "markdown",
   "id": "27646308",
   "metadata": {},
   "source": [
    "## Étape 5 : Suggestions"
   ]
  },
  {
   "cell_type": "code",
   "execution_count": null,
   "id": "b7930537",
   "metadata": {},
   "outputs": [],
   "source": [
    "print(\"- Définir des règles claires pour les entités ambigües comme 'Amazon' ou 'Cannes'.\")\n",
    "print(\"- Organiser une session de relecture entre annotateurs.\")\n",
    "print(\"- Fournir un guide d’annotation avec exemples typiques.\")"
   ]
  }
 ],
 "metadata": {},
 "nbformat": 4,
 "nbformat_minor": 5
}
